{
 "cells": [
  {
   "cell_type": "code",
   "id": "initial_id",
   "metadata": {
    "collapsed": true,
    "ExecuteTime": {
     "end_time": "2025-06-05T07:38:40.081137Z",
     "start_time": "2025-06-05T07:38:30.576840Z"
    }
   },
   "source": [
    "import pandas as pd\n",
    "import warnings\n",
    "import great_expectations as gx\n",
    "\n",
    "warnings.filterwarnings(\"ignore\", message=\"`result_format` configured at the Validator-level*\")\n",
    "\n",
    "# === 1. Läs in DataFrame ===\n",
    "\n",
    "df = pd.read_csv(r\"C:\\Users\\Book\\Bank-transaktioner\\Bank_transaktioner\\data\\transactions_cleaned_trimmed.csv\")\n",
    "\n",
    "# === 2. Skapa ett ephemeral Great Expectations context ===\n",
    "context = gx.get_context(mode=\"ephemeral\")  # ← enklare sätt än manuellt config\n",
    "\n",
    "# === 3. Lägg till Pandas-datakälla ===\n",
    "data_source = context.data_sources.add_pandas(name=\"pandas\")\n",
    "\n",
    "# === 4. Lägg till DataFrame som asset ===\n",
    "data_asset = data_source.add_dataframe_asset(name=\"transactions_data\")\n",
    "\n",
    "# === 5. Definiera och hämta batch ===\n",
    "batch_definition = data_asset.add_batch_definition_whole_dataframe(name=\"batch_def\")\n",
    "batch = batch_definition.get_batch(batch_parameters={\"dataframe\": df})\n",
    "\n",
    "# === 6. Skapa expectation suite och validator ===\n",
    "suite = gx.core.ExpectationSuite(name=\"transactions_suite\")\n",
    "validator = context.get_validator(batch=batch, expectation_suite=suite)\n",
    "\n",
    "# === 7. Lägg till expectations ===\n",
    "validator.expect_column_values_to_be_between(\"amount\", min_value=0.01, max_value=100000)\n",
    "\n",
    "# === 8. Validera och skriv ut resultat ===\n",
    "results = validator.validate()\n",
    "print(results)\n"
   ],
   "outputs": [
    {
     "name": "stderr",
     "output_type": "stream",
     "text": [
      "Calculating Metrics: 100%|██████████| 8/8 [00:00<00:00, 135.42it/s]\n",
      "Calculating Metrics: 100%|██████████| 8/8 [00:00<00:00, 154.11it/s]"
     ]
    },
    {
     "name": "stdout",
     "output_type": "stream",
     "text": [
      "{\n",
      "  \"success\": true,\n",
      "  \"results\": [\n",
      "    {\n",
      "      \"success\": true,\n",
      "      \"expectation_config\": {\n",
      "        \"type\": \"expect_column_values_to_be_between\",\n",
      "        \"kwargs\": {\n",
      "          \"batch_id\": \"pandas-transactions_data\",\n",
      "          \"column\": \"amount\",\n",
      "          \"min_value\": 0.01,\n",
      "          \"max_value\": 100000.0\n",
      "        },\n",
      "        \"meta\": {}\n",
      "      },\n",
      "      \"result\": {\n",
      "        \"element_count\": 100000,\n",
      "        \"unexpected_count\": 0,\n",
      "        \"unexpected_percent\": 0.0,\n",
      "        \"partial_unexpected_list\": [],\n",
      "        \"missing_count\": 0,\n",
      "        \"missing_percent\": 0.0,\n",
      "        \"unexpected_percent_total\": 0.0,\n",
      "        \"unexpected_percent_nonmissing\": 0.0\n",
      "      },\n",
      "      \"meta\": {},\n",
      "      \"exception_info\": {\n",
      "        \"raised_exception\": false,\n",
      "        \"exception_traceback\": null,\n",
      "        \"exception_message\": null\n",
      "      }\n",
      "    }\n",
      "  ],\n",
      "  \"suite_name\": \"transactions_suite\",\n",
      "  \"suite_parameters\": {},\n",
      "  \"statistics\": {\n",
      "    \"evaluated_expectations\": 1,\n",
      "    \"successful_expectations\": 1,\n",
      "    \"unsuccessful_expectations\": 0,\n",
      "    \"success_percent\": 100.0\n",
      "  },\n",
      "  \"meta\": {\n",
      "    \"great_expectations_version\": \"1.4.4\",\n",
      "    \"expectation_suite_name\": \"transactions_suite\",\n",
      "    \"run_id\": {\n",
      "      \"run_name\": null,\n",
      "      \"run_time\": \"2025-06-05T09:38:40.004126+02:00\"\n",
      "    },\n",
      "    \"batch_spec\": {\n",
      "      \"batch_data\": \"PandasDataFrame\"\n",
      "    },\n",
      "    \"batch_markers\": {\n",
      "      \"ge_load_time\": \"20250605T073839.646366Z\",\n",
      "      \"pandas_data_fingerprint\": \"d8179c8a9b421873328971674cf0d589\"\n",
      "    },\n",
      "    \"active_batch_definition\": {\n",
      "      \"datasource_name\": \"pandas\",\n",
      "      \"data_connector_name\": \"fluent\",\n",
      "      \"data_asset_name\": \"transactions_data\",\n",
      "      \"batch_identifiers\": {\n",
      "        \"dataframe\": \"<DATAFRAME>\"\n",
      "      }\n",
      "    },\n",
      "    \"validation_time\": \"20250605T073840.004126Z\",\n",
      "    \"checkpoint_name\": null\n",
      "  },\n",
      "  \"id\": null\n",
      "}\n"
     ]
    },
    {
     "name": "stderr",
     "output_type": "stream",
     "text": [
      "\n"
     ]
    }
   ],
   "execution_count": 2
  }
 ],
 "metadata": {
  "kernelspec": {
   "display_name": "Python 3",
   "language": "python",
   "name": "python3"
  },
  "language_info": {
   "codemirror_mode": {
    "name": "ipython",
    "version": 2
   },
   "file_extension": ".py",
   "mimetype": "text/x-python",
   "name": "python",
   "nbconvert_exporter": "python",
   "pygments_lexer": "ipython2",
   "version": "2.7.6"
  }
 },
 "nbformat": 4,
 "nbformat_minor": 5
}
