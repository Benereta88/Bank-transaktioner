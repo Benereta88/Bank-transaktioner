{
 "cells": [
  {
   "metadata": {
    "ExecuteTime": {
     "end_time": "2025-06-03T10:36:28.087299Z",
     "start_time": "2025-06-03T10:36:26.612539Z"
    }
   },
   "cell_type": "code",
   "source": [
    "import pandas as pd\n",
    "\n",
    "# === 1. Läs in CSV ===\n",
    "file_path = r\"/Bank_transntioner/data/transactions.csv\"\n",
    "df = pd.read_csv(file_path)\n",
    "\n",
    "# === 2. Typkonvertering ===\n",
    "# Ta bort eventuella mellanslag i amount och konvertera till float\n",
    "df[\"amount\"] = df[\"amount\"].astype(str).str.replace(\" \", \"\").astype(float)\n",
    "\n",
    "# Säkerställ att transaction_id är str\n",
    "df[\"transaction_id\"] = df[\"transaction_id\"].astype(str)\n",
    "\n",
    "# Konvertera timestamp till datetime\n",
    "df[\"timestamp\"] = pd.to_datetime(df[\"timestamp\"], errors=\"coerce\")\n",
    "\n",
    "# === 3. Saknade värden ===\n",
    "# Fyll saknade notes med \"No note\"\n",
    "df[\"notes\"].fillna(\"No note\", inplace=True)\n",
    "\n",
    "# Fyll saknade kommuner/länder med \"Unknown\"\n",
    "cols_to_fill = [\n",
    "    \"sender_country\",\n",
    "    \"receiver_country\",\n",
    "    \"sender_municipality\",\n",
    "    \"receiver_municipality\",\n",
    "]\n",
    "for col in cols_to_fill:\n",
    "    df[col].fillna(\"Unknown\", inplace=True)\n",
    "\n",
    "# === 4. Felaktiga värden ===\n",
    "# Flagga misstänkt amount (≤ 0 eller > 1 miljon)\n",
    "df[\"suspicious_amount\"] = (df[\"amount\"] <= 0) | (df[\"amount\"] > 1_000_000)\n",
    "\n",
    "# Flagga ogiltig transaction_type\n",
    "valid_types = [\"incoming\", \"outgoing\"]\n",
    "df[\"invalid_transaction_type\"] = ~df[\"transaction_type\"].isin(valid_types)\n",
    "\n",
    "# Godkänn alla 10 valutor som finns i datan\n",
    "valid_currencies = [\"SEK\", \"USD\", \"EUR\", \"NOK\", \"DKK\", \"RMB\", \"ZAR\", \"GBP\", \"JPY\", \"ZMW\"]\n",
    "df[\"invalid_currency\"] = ~df[\"currency\"].isin(valid_currencies)\n",
    "\n",
    "# === 5. Rensa formatproblem (konton) ===\n",
    "df[\"sender_account\"] = df[\"sender_account\"].astype(str).str.strip()\n",
    "df[\"receiver_account\"] = df[\"receiver_account\"].astype(str).str.strip()\n",
    "\n",
    "# === 6. Summering (frivilligt för utskrift) ===\n",
    "print(\"Antal transaktioner:\", len(df))\n",
    "print(\"Saknade timestamps:\", df['timestamp'].isnull().sum())\n",
    "print(\"Misstänkta belopp:\", df['suspicious_amount'].sum())\n",
    "print(\"Ogiltiga transaction_type:\", df['invalid_transaction_type'].sum())\n",
    "print(\"Ogiltiga valutor:\", df['invalid_currency'].sum())\n",
    "\n",
    "# === 7. Spara till ny CSV ===\n",
    "df.to_csv(\"transactions_cleaned.csv\", index=False)\n",
    "print(\" Rensad fil sparad som 'transactions_cleaned.csv'\")\n",
    "\n"
   ],
   "id": "f86efb9494753de",
   "outputs": [
    {
     "name": "stdout",
     "output_type": "stream",
     "text": [
      "Antal transaktioner: 100000\n",
      "Saknade timestamps: 0\n",
      "Misstänkta belopp: 0\n",
      "Ogiltiga transaction_type: 0\n",
      "Ogiltiga valutor: 0\n",
      " Rensad fil sparad som 'transactions_cleaned.csv'\n"
     ]
    }
   ],
   "execution_count": 4
  },
  {
   "metadata": {
    "ExecuteTime": {
     "end_time": "2025-06-03T10:36:36.778685Z",
     "start_time": "2025-06-03T10:36:35.679736Z"
    }
   },
   "cell_type": "code",
   "source": [
    "import pandas as pd\n",
    "\n",
    "# Läs in CSV-filen\n",
    "transactions_cleaned = pd.read_csv('data/transactions_cleaned.csv')\n",
    "\n",
    "# Visa kolumner innan ändring (valfritt)\n",
    "print(\"Kolumner före borttagning:\")\n",
    "print(transactions_cleaned.columns)\n",
    "\n",
    "# Ta bort de tre sista kolumnerna\n",
    "transactions_cleaned = transactions_cleaned.iloc[:, :-3]\n",
    "\n",
    "# Visa kolumner efter ändring (valfritt)\n",
    "print(\"Kolumner efter borttagning:\")\n",
    "print(transactions_cleaned.columns)\n",
    "\n",
    "# Spara den uppdaterade DataFrame till en ny fil (valfritt)\n",
    "transactions_cleaned.to_csv('transactions_cleaned_trimmed.csv', index=False)\n"
   ],
   "id": "85e0853c4296472d",
   "outputs": [
    {
     "name": "stdout",
     "output_type": "stream",
     "text": [
      "Kolumner före borttagning:\n",
      "Index(['transaction_id', 'timestamp', 'amount', 'currency', 'sender_account',\n",
      "       'receiver_account', 'sender_country', 'sender_municipality',\n",
      "       'receiver_country', 'receiver_municipality', 'transaction_type',\n",
      "       'notes', 'suspicious_amount', 'invalid_transaction_type',\n",
      "       'invalid_currency'],\n",
      "      dtype='object')\n",
      "Kolumner efter borttagning:\n",
      "Index(['transaction_id', 'timestamp', 'amount', 'currency', 'sender_account',\n",
      "       'receiver_account', 'sender_country', 'sender_municipality',\n",
      "       'receiver_country', 'receiver_municipality', 'transaction_type',\n",
      "       'notes'],\n",
      "      dtype='object')\n"
     ]
    }
   ],
   "execution_count": 5
  }
 ],
 "metadata": {
  "kernelspec": {
   "display_name": "Python 3",
   "language": "python",
   "name": "python3"
  },
  "language_info": {
   "codemirror_mode": {
    "name": "ipython",
    "version": 2
   },
   "file_extension": ".py",
   "mimetype": "text/x-python",
   "name": "python",
   "nbconvert_exporter": "python",
   "pygments_lexer": "ipython2",
   "version": "2.7.6"
  }
 },
 "nbformat": 4,
 "nbformat_minor": 5
}
