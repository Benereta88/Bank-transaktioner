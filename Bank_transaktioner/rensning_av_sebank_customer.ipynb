{
 "cells": [
  {
   "cell_type": "code",
   "id": "initial_id",
   "metadata": {
    "collapsed": true,
    "ExecuteTime": {
     "end_time": "2025-06-03T10:31:12.241443Z",
     "start_time": "2025-06-03T10:31:12.158664Z"
    }
   },
   "source": [
    "import pandas as pd\n",
    "\n",
    "# === 1. Läs in kundfil ===\n",
    "df = pd.read_csv(r\"/Bank_transntioner/data/sebank_customers_with_accounts.csv\")\n",
    "\n",
    "# === 2. Strip och städa strängar ===\n",
    "df[\"Personnummer\"] = df[\"Personnummer\"].astype(str).str.strip()\n",
    "df[\"Customer\"] = df[\"Customer\"].astype(str).str.strip()\n",
    "df[\"Phone\"] = df[\"Phone\"].astype(str).str.strip()\n",
    "df[\"Address\"] = df[\"Address\"].astype(str).str.strip()\n",
    "df[\"BankAccount\"] = df[\"BankAccount\"].astype(str).str.strip()\n",
    "\n",
    "# === 3. Valideringar ===\n",
    "# Kontroll: unika personnummer\n",
    "duplicates = df[\"Personnummer\"].duplicated(keep=False)\n",
    "print(f\"Dubbletter i personnummer: {duplicates.sum()} st\")\n",
    "\n",
    "# Kontroll: saknade fält\n",
    "missing_counts = df.isnull().sum()\n",
    "print(\"Saknade värden per kolumn:\\n\", missing_counts)\n",
    "\n",
    "# Kontroll: telefonnummer – enkla regler\n",
    "df[\"valid_phone\"] = df[\"Phone\"].str.match(r\"^[\\d\\s\\+\\-\\(\\)]+$\")\n",
    "\n",
    "# === 4. Skapa två separata tabeller ===\n",
    "# Unika kunder\n",
    "df_customers = df.drop_duplicates(subset=\"Personnummer\")[[\"Personnummer\", \"Customer\", \"Phone\", \"Address\"]].copy()\n",
    "\n",
    "# Koppling kund → konton\n",
    "df_accounts = df[[\"Personnummer\", \"BankAccount\"]].drop_duplicates()\n",
    "\n",
    "# === 5. Spara till filer ===\n",
    "df_customers.to_csv(\"customers_cleaned.csv\", index=False)\n",
    "df_accounts.to_csv(\"accounts_cleaned.csv\", index=False)\n",
    "\n",
    "print(\"Sparade:\")\n",
    "print(\"→ customers_cleaned.csv\")\n",
    "print(\"→ accounts_cleaned.csv\")\n"
   ],
   "outputs": [
    {
     "name": "stdout",
     "output_type": "stream",
     "text": [
      "Dubbletter i personnummer: 700 st\n",
      "Saknade värden per kolumn:\n",
      " Customer        0\n",
      "Address         0\n",
      "Phone           0\n",
      "Personnummer    0\n",
      "BankAccount     0\n",
      "dtype: int64\n",
      "Sparade:\n",
      "→ customers_cleaned.csv\n",
      "→ accounts_cleaned.csv\n"
     ]
    }
   ],
   "execution_count": 7
  }
 ],
 "metadata": {
  "kernelspec": {
   "display_name": "Python 3",
   "language": "python",
   "name": "python3"
  },
  "language_info": {
   "codemirror_mode": {
    "name": "ipython",
    "version": 2
   },
   "file_extension": ".py",
   "mimetype": "text/x-python",
   "name": "python",
   "nbconvert_exporter": "python",
   "pygments_lexer": "ipython2",
   "version": "2.7.6"
  }
 },
 "nbformat": 4,
 "nbformat_minor": 5
}
